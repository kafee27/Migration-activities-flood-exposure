{
 "cells": [
  {
   "cell_type": "code",
   "execution_count": 1,
   "metadata": {},
   "outputs": [
    {
     "name": "stdout",
     "output_type": "stream",
     "text": [
      "All project is OK！\n"
     ]
    }
   ],
   "source": [
    "# coding=utf-8\n",
    "import arcpy\n",
    "from arcpy import env\n",
    "from arcpy.sa import *\n",
    "\n",
    "# Set environment settings\n",
    "\n",
    "env.workspace = \"i:\\\\tiff1\\\\\" \n",
    "# Set local variables\n",
    "\n",
    "rasters = arcpy.ListRasters(\"*\", \"tif\") \n",
    "\n",
    "# Check out the ArcGIS Spatial Analyst extension license\n",
    "arcpy.CheckOutExtension(\"Spatial\")\n",
    "\n",
    "# MEAN；SUM；STD；MINIMUM；MAXIMUM；\n",
    "outCellStatistics = CellStatistics(rasters, \"MAXIMUM\", \"DATA\")\n",
    "\n",
    "outCellStatistics.save(\"i:\\\\tiff1\\\\max3h_1.tif\")\n",
    "print(\"All project is OK！\")"
   ]
  },
  {
   "cell_type": "code",
   "execution_count": null,
   "metadata": {},
   "outputs": [],
   "source": []
  },
  {
   "cell_type": "code",
   "execution_count": null,
   "metadata": {},
   "outputs": [],
   "source": []
  }
 ],
 "metadata": {
  "kernelspec": {
   "display_name": "Python 3",
   "language": "python",
   "name": "python3"
  },
  "language_info": {
   "codemirror_mode": {
    "name": "ipython",
    "version": 3
   },
   "file_extension": ".py",
   "mimetype": "text/x-python",
   "name": "python",
   "nbconvert_exporter": "python",
   "pygments_lexer": "ipython3",
   "version": "3.7.10"
  }
 },
 "nbformat": 4,
 "nbformat_minor": 4
}
