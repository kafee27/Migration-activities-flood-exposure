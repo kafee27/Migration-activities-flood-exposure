{
 "cells": [
  {
   "cell_type": "code",
   "execution_count": null,
   "metadata": {},
   "outputs": [],
   "source": [
    "from osgeo import gdal\n",
    "import glob\n",
    "import numpy as np\n",
    "import csv\n",
    "\n",
    "\n"
   ]
  },
  {
   "cell_type": "code",
   "execution_count": null,
   "metadata": {},
   "outputs": [],
   "source": [
    "\n",
    "def calc_grid_mean(tiffile, csvpath):\n",
    "    open_tif = gdal.Open(tiffile) \n",
    "\n",
    "    band = open_tif.GetRasterBand(1).ReadAsArray()\n",
    "    count_value = [] \n",
    "\n",
    "    for i in range(len(band)):\n",
    "        for j in range(len(band[i])):\n",
    "            if band[i][j] >= -1000:\n",
    "                count_value.append(band[i][j]) \n",
    "\n",
    "    mycsv = open(str(csvpath), 'a', newline='') \n",
    "    csv_write = csv.writer(mycsv, dialect='excel')\n",
    "    tif_info = (str(tif[-40:]), float(np.sum(count_value)))\n",
    "    csv_write.writerow(tif_info) \n",
    "    print(f'{str(tif[-40:])}, {np.sum(count_value)}') \n",
    "\n",
    "\n",
    "csv_path = r'D:\\apapernewforglobal\\migration\\check2\\aaab1.csv' # csv\n",
    "tif_dir = glob.glob(r'D:\\apapernewforglobal\\migration\\check2\\*.tif') # tif\n",
    "\n",
    "for tif in tif_dir:  \n",
    "    calc_grid_mean(tif, csv_path) "
   ]
  },
  {
   "cell_type": "code",
   "execution_count": null,
   "metadata": {},
   "outputs": [],
   "source": []
  }
 ],
 "metadata": {
  "kernelspec": {
   "display_name": "Python 3",
   "language": "python",
   "name": "python3"
  },
  "language_info": {
   "codemirror_mode": {
    "name": "ipython",
    "version": 3
   },
   "file_extension": ".py",
   "mimetype": "text/x-python",
   "name": "python",
   "nbconvert_exporter": "python",
   "pygments_lexer": "ipython3",
   "version": "3.7.10"
  }
 },
 "nbformat": 4,
 "nbformat_minor": 4
}
