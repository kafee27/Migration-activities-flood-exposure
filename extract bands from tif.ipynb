{
 "cells": [
  {
   "cell_type": "code",
   "execution_count": null,
   "metadata": {},
   "outputs": [],
   "source": [
    "from osgeo import gdal\n",
    "import os\n",
    "\n"
   ]
  },
  {
   "cell_type": "code",
   "execution_count": null,
   "metadata": {},
   "outputs": [],
   "source": [
    "# TIFFpath\n",
    "input_tif_path = \"D:\\\\apapernewforglobal\\\\migration\\\\.tif\"\n",
    "\n",
    "#outputpath\n",
    "output_folder = \"D:\\\\apapernewforglobal\\\\migration\\\\rate\\\\birth\\\\\"\n",
    "\n",
    "if not os.path.exists(output_folder):\n",
    "    os.makedirs(output_folder)\n",
    "\n",
    "\n",
    "dataset = gdal.Open(input_tif_path)\n",
    "\n",
    "\n",
    "band_count = dataset.RasterCount\n",
    "\n",
    "\n",
    "for i in range(1, band_count + 1):\n",
    "\n",
    "    output_tif_path = os.path.join(output_folder, f\"band_{i}.tif\")\n",
    "    \n",
    "\n",
    "    band = dataset.GetRasterBand(i)\n",
    "    driver = gdal.GetDriverByName('GTiff')\n",
    "    out_ds = driver.Create(output_tif_path, band.XSize, band.YSize, 1, band.DataType)\n",
    "    out_ds.GetRasterBand(1).WriteArray(band.ReadAsArray())\n",
    "    \n",
    "\n",
    "    out_ds.SetGeoTransform(dataset.GetGeoTransform())\n",
    "    out_ds.SetProjection(dataset.GetProjection())\n",
    "\n",
    "    out_ds.FlushCache()\n",
    "    out_ds = None\n",
    "\n",
    "    print(f\"Extracted band {i} to {output_tif_path}\")\n",
    "\n",
    "\n",
    "dataset = None\n",
    "\n",
    "print(\"Extraction of all bands completed.\")"
   ]
  },
  {
   "cell_type": "code",
   "execution_count": null,
   "metadata": {},
   "outputs": [],
   "source": []
  },
  {
   "cell_type": "code",
   "execution_count": null,
   "metadata": {},
   "outputs": [],
   "source": []
  }
 ],
 "metadata": {
  "kernelspec": {
   "display_name": "Python 3",
   "language": "python",
   "name": "python3"
  },
  "language_info": {
   "codemirror_mode": {
    "name": "ipython",
    "version": 3
   },
   "file_extension": ".py",
   "mimetype": "text/x-python",
   "name": "python",
   "nbconvert_exporter": "python",
   "pygments_lexer": "ipython3",
   "version": "3.7.10"
  }
 },
 "nbformat": 4,
 "nbformat_minor": 4
}
